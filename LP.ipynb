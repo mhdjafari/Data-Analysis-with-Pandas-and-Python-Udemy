{
 "cells": [
  {
   "cell_type": "code",
   "execution_count": 1,
   "id": "1f552da1",
   "metadata": {},
   "outputs": [],
   "source": [
    "import pyomo\n",
    "import pyomo.environ as pyo\n",
    "\n"
   ]
  },
  {
   "cell_type": "code",
   "execution_count": 3,
   "id": "86b46dbf",
   "metadata": {},
   "outputs": [
    {
     "name": "stdout",
     "output_type": "stream",
     "text": [
      "# ==========================================================\n",
      "# = Solver Results                                         =\n",
      "# ==========================================================\n",
      "# ----------------------------------------------------------\n",
      "#   Problem Information\n",
      "# ----------------------------------------------------------\n",
      "Problem: \n",
      "- Name: unknown\n",
      "  Lower bound: 320.0\n",
      "  Upper bound: 320.0\n",
      "  Number of objectives: 1\n",
      "  Number of constraints: 3\n",
      "  Number of variables: 3\n",
      "  Number of nonzeros: 5\n",
      "  Sense: minimize\n",
      "# ----------------------------------------------------------\n",
      "#   Solver Information\n",
      "# ----------------------------------------------------------\n",
      "Solver: \n",
      "- Status: ok\n",
      "  Termination condition: optimal\n",
      "  Statistics: \n",
      "    Branch and bound: \n",
      "      Number of bounded subproblems: 0\n",
      "      Number of created subproblems: 0\n",
      "  Error rc: 0\n",
      "  Time: 0.015820026397705078\n",
      "# ----------------------------------------------------------\n",
      "#   Solution Information\n",
      "# ----------------------------------------------------------\n",
      "Solution: \n",
      "- number of solutions: 0\n",
      "  number of solutions displayed: 0\n",
      "\n",
      " ----RESULTS---- \n",
      "\n",
      "Objective Function= 320.0\n",
      "X1= 3.6\n",
      "X2= 1.4\n"
     ]
    }
   ],
   "source": [
    "model= pyo.ConcreteModel()\n",
    "model.x1=pyo.Var()\n",
    "model.x2=pyo.Var()\n",
    "\n",
    "# Objective\n",
    "model.obj=pyo.Objective(expr=50*model.x1+100*model.x2, sense=pyo.minimize)\n",
    "\n",
    "# Constraints\n",
    "def rule1(model):\n",
    "    return 7*model.x1+2*model.x2>=28\n",
    "\n",
    "model.eq1=pyo.Constraint(rule=rule1, doc=\"Constraint 1\")\n",
    "\n",
    "def rule2(model):\n",
    "    return 2*model.x1+12*model.x2>=24\n",
    "\n",
    "\n",
    "model.eq2=pyo.Constraint(rule=rule2, doc=\"Constraint 2\")\n",
    "\n",
    "#Solver\n",
    "solver = pyo.SolverFactory('glpk')\n",
    "solution = solver.solve(model)\n",
    "#display(model)\n",
    "\n",
    "\n",
    "solution.write()\n",
    "print(\"\\n ----RESULTS---- \\n\")\n",
    "print(\"Objective Function=\", model.obj())\n",
    "print(\"X1=\", model.x1())\n",
    "print(\"X2=\", model.x2())"
   ]
  },
  {
   "cell_type": "code",
   "execution_count": null,
   "id": "5d2cd5cd",
   "metadata": {},
   "outputs": [],
   "source": []
  },
  {
   "cell_type": "code",
   "execution_count": 4,
   "id": "f913d534",
   "metadata": {},
   "outputs": [
    {
     "name": "stdout",
     "output_type": "stream",
     "text": [
      "2 Var Declarations\n",
      "    x : Size=1, Index=None\n",
      "        Key  : Lower : Value : Upper : Fixed : Stale : Domain\n",
      "        None :     0 :  None :  None : False :  True : NonNegativeReals\n",
      "    y : Size=1, Index=None\n",
      "        Key  : Lower : Value : Upper : Fixed : Stale : Domain\n",
      "        None :     0 :  None :  None : False :  True : NonNegativeReals\n",
      "\n",
      "1 Objective Declarations\n",
      "    profit : Size=1, Index=None, Active=True\n",
      "        Key  : Active : Sense    : Expression\n",
      "        None :   True : maximize : 40*x + 30*y\n",
      "\n",
      "3 Constraint Declarations\n",
      "    demand : Size=1, Index=None, Active=True\n",
      "        Key  : Lower : Body : Upper : Active\n",
      "        None :  -Inf :    x :  40.0 :   True\n",
      "    laborA : Size=1, Index=None, Active=True\n",
      "        Key  : Lower : Body  : Upper : Active\n",
      "        None :  -Inf : x + y :  80.0 :   True\n",
      "    laborB : Size=1, Index=None, Active=True\n",
      "        Key  : Lower : Body    : Upper : Active\n",
      "        None :  -Inf : 2*x + y : 100.0 :   True\n",
      "\n",
      "6 Declarations: x y profit demand laborA laborB\n"
     ]
    }
   ],
   "source": [
    "from pyomo.environ import *\n",
    "\n",
    "# create a model\n",
    "model = ConcreteModel()\n",
    "\n",
    "# declare decision variables\n",
    "model.x = Var(domain=NonNegativeReals)\n",
    "model.y = Var(domain=NonNegativeReals)\n",
    "\n",
    "# declare objective\n",
    "model.profit = Objective(expr = 40*model.x + 30*model.y, sense=maximize)\n",
    "\n",
    "# declare constraints\n",
    "model.demand = Constraint(expr = model.x <= 40)\n",
    "model.laborA = Constraint(expr = model.x + model.y <= 80)\n",
    "model.laborB = Constraint(expr = 2*model.x + model.y <= 100)\n",
    "\n",
    "model.pprint()\n"
   ]
  },
  {
   "cell_type": "code",
   "execution_count": 5,
   "id": "e7f65f54",
   "metadata": {},
   "outputs": [],
   "source": [
    "#%apt-get install -y -qq glpk-utils"
   ]
  },
  {
   "cell_type": "code",
   "execution_count": 6,
   "id": "cb5c3324",
   "metadata": {},
   "outputs": [
    {
     "name": "stdout",
     "output_type": "stream",
     "text": [
      "Model unknown\n",
      "\n",
      "  Variables:\n",
      "    x : Size=1, Index=None\n",
      "        Key  : Lower : Value : Upper : Fixed : Stale : Domain\n",
      "        None :     0 :  20.0 :  None : False : False : NonNegativeReals\n",
      "    y : Size=1, Index=None\n",
      "        Key  : Lower : Value : Upper : Fixed : Stale : Domain\n",
      "        None :     0 :  60.0 :  None : False : False : NonNegativeReals\n",
      "\n",
      "  Objectives:\n",
      "    profit : Size=1, Index=None, Active=True\n",
      "        Key  : Active : Value\n",
      "        None :   True : 2600.0\n",
      "\n",
      "  Constraints:\n",
      "    demand : Size=1\n",
      "        Key  : Lower : Body : Upper\n",
      "        None :  None : 20.0 :  40.0\n",
      "    laborA : Size=1\n",
      "        Key  : Lower : Body : Upper\n",
      "        None :  None : 80.0 :  80.0\n",
      "    laborB : Size=1\n",
      "        Key  : Lower : Body  : Upper\n",
      "        None :  None : 100.0 : 100.0\n",
      "\n",
      "Profit =  2600.0\n",
      "\n",
      "Decision Variables\n",
      "x =  20.0\n",
      "y =  60.0\n",
      "\n",
      "Constraints\n",
      "Demand  =  20.0\n",
      "Labor A =  80.0\n",
      "Labor B =  100.0\n"
     ]
    }
   ],
   "source": [
    "\n",
    "solver = SolverFactory('glpk')\n",
    "solution = solver.solve(model)\n",
    "display(model)\n",
    "\n",
    "# display solution\n",
    "print('\\nProfit = ', model.profit())\n",
    "\n",
    "print('\\nDecision Variables')\n",
    "print('x = ', model.x())\n",
    "print('y = ', model.y())\n",
    "\n",
    "print('\\nConstraints')\n",
    "print('Demand  = ', model.demand())\n",
    "print('Labor A = ', model.laborA())\n",
    "print('Labor B = ', model.laborB())"
   ]
  },
  {
   "cell_type": "code",
   "execution_count": 7,
   "id": "665c4d3f",
   "metadata": {
    "scrolled": true
   },
   "outputs": [
    {
     "data": {
      "image/png": "[encoded data removed]",
      "text/plain": [
       "<Figure size 432x288 with 1 Axes>"
      ]
     },
     "metadata": {
      "needs_background": "light"
     },
     "output_type": "display_data"
    }
   ],
   "source": [
    "# Data Points\n",
    "import pandas as pd\n",
    "x=[-5, -3,-1,5,3, 1]\n",
    "y=[127,151, 379, 421, 460, 426]\n",
    "import matplotlib.pyplot as plt\n",
    "plt.scatter(x,y)\n",
    "plt.show()\n",
    "\n"
   ]
  },
  {
   "cell_type": "code",
   "execution_count": 8,
   "id": "28cdba00",
   "metadata": {},
   "outputs": [
    {
     "name": "stdout",
     "output_type": "stream",
     "text": [
      "{1: -5, 2: -3, 3: -1, 4: 5, 5: 3, 6: 1}\n",
      "{1: 127, 2: 151, 3: 379, 4: 421, 5: 460, 6: 426}\n"
     ]
    }
   ],
   "source": [
    "X=pd.DataFrame(x)\n",
    "X=X.to_dict\n",
    "Y=pd.DataFrame(y, columns=None)\n",
    "\n",
    "\n",
    "idx= [ i for i in range (0,len(x))] \n",
    "X={}\n",
    "\n",
    "X = {}\n",
    "Y={}\n",
    "for i in range(len(x)):\n",
    "        X[i+1] = x[i]\n",
    "        Y[i+1] = y[i]\n",
    "print(X)\n",
    "print(Y)"
   ]
  },
  {
   "cell_type": "code",
   "execution_count": 9,
   "id": "dab9a712",
   "metadata": {},
   "outputs": [
    {
     "data": {
      "text/plain": [
       "{1: -5, 2: -3, 3: -1, 4: 5, 5: 3, 6: 1}"
      ]
     },
     "execution_count": 9,
     "metadata": {},
     "output_type": "execute_result"
    }
   ],
   "source": [
    "X"
   ]
  },
  {
   "cell_type": "code",
   "execution_count": 20,
   "id": "17940d17",
   "metadata": {},
   "outputs": [
    {
     "data": {
      "text/plain": [
       "{1: 127, 2: 151, 3: 379, 4: 421, 5: 460, 6: 426}"
      ]
     },
     "execution_count": 20,
     "metadata": {},
     "output_type": "execute_result"
    }
   ],
   "source": [
    "Y"
   ]
  },
  {
   "cell_type": "code",
   "execution_count": null,
   "id": "55684732",
   "metadata": {},
   "outputs": [],
   "source": []
  },
  {
   "cell_type": "code",
   "execution_count": null,
   "id": "7e14b8c1",
   "metadata": {},
   "outputs": [],
   "source": []
  },
  {
   "cell_type": "code",
   "execution_count": null,
   "id": "b6a4279e",
   "metadata": {},
   "outputs": [],
   "source": []
  },
  {
   "cell_type": "code",
   "execution_count": null,
   "id": "2e2c4e83",
   "metadata": {},
   "outputs": [],
   "source": []
  },
  {
   "cell_type": "code",
   "execution_count": 58,
   "id": "c1b0e170",
   "metadata": {},
   "outputs": [
    {
     "name": "stdout",
     "output_type": "stream",
     "text": [
      "# ==========================================================\n",
      "# = Solver Results                                         =\n",
      "# ==========================================================\n",
      "# ----------------------------------------------------------\n",
      "#   Problem Information\n",
      "# ----------------------------------------------------------\n",
      "Problem: \n",
      "- Lower bound: -inf\n",
      "  Upper bound: inf\n",
      "  Number of objectives: 1\n",
      "  Number of constraints: 0\n",
      "  Number of variables: 2\n",
      "  Sense: unknown\n",
      "# ----------------------------------------------------------\n",
      "#   Solver Information\n",
      "# ----------------------------------------------------------\n",
      "Solver: \n",
      "- Status: ok\n",
      "  Message: Ipopt 3.14.4\\x3a Optimal Solution Found\n",
      "  Termination condition: optimal\n",
      "  Id: 0\n",
      "  Error rc: 0\n",
      "  Time: 0.17204523086547852\n",
      "# ----------------------------------------------------------\n",
      "#   Solution Information\n",
      "# ----------------------------------------------------------\n",
      "Solution: \n",
      "- number of solutions: 0\n",
      "  number of solutions displayed: 0\n",
      " \n",
      " Results \n",
      "\n",
      "OBJ= 24674.81904761905\n",
      "a1= 327.3333333333333\n",
      "a2= 34.91428571428571\n",
      "# ==========================================================\n",
      "# = Solver Results                                         =\n",
      "# ==========================================================\n",
      "# ----------------------------------------------------------\n",
      "#   Problem Information\n",
      "# ----------------------------------------------------------\n",
      "Problem: \n",
      "- Lower bound: -inf\n",
      "  Upper bound: inf\n",
      "  Number of objectives: 1\n",
      "  Number of constraints: 0\n",
      "  Number of variables: 3\n",
      "  Sense: unknown\n",
      "# ----------------------------------------------------------\n",
      "#   Solver Information\n",
      "# ----------------------------------------------------------\n",
      "Solver: \n",
      "- Status: ok\n",
      "  Message: Ipopt 3.14.4\\x3a Optimal Solution Found\n",
      "  Termination condition: optimal\n",
      "  Id: 0\n",
      "  Error rc: 0\n",
      "  Time: 0.07870078086853027\n",
      "# ----------------------------------------------------------\n",
      "#   Solution Information\n",
      "# ----------------------------------------------------------\n",
      "Solution: \n",
      "- number of solutions: 0\n",
      "  number of solutions displayed: 0\n",
      "OBJ= 14085.139848928411\n",
      "b1= 516.6511741716694\n",
      "b2= -149.35189369628853\n",
      "b3= -0.20664276797259945\n"
     ]
    }
   ],
   "source": [
    "# Optimization problem\n",
    "# Model Definition\n",
    "model_linear=pyo.ConcreteModel()\n",
    "model_nonlinear=pyo.ConcreteModel()\n",
    "  \n",
    "    \n",
    "# Set declaration\n",
    "model_linear.m = pyo.RangeSet(6)\n",
    "model_nonlinear.m = pyo.RangeSet (6)\n",
    "\n",
    "\n",
    "# Variable definition\n",
    "model_linear.a1 = pyo.Var(domain=pyo.Reals)\n",
    "model_linear.a2 = pyo.Var(domain=pyo.Reals)\n",
    "\n",
    "model_nonlinear.b1 = pyo.Var(domain=pyo.Reals, initialize= 500)\n",
    "model_nonlinear.b2 = pyo.Var(domain=pyo.Reals, initialize= -150)\n",
    "model_nonlinear.b3 = pyo.Var(domain=pyo.Reals, initialize= -0.2)\n",
    "\n",
    "\n",
    "# Parameters\n",
    "\n",
    "model_linear.datapoints_y=pyo.Param(model_linear.m, initialize = Y)\n",
    "model_linear.datapoints_x=pyo.Param(model_linear.m, initialize = X)\n",
    "\n",
    "\n",
    "model_nonlinear.datapoints_y=pyo.Param(model_nonlinear.m, initialize = Y)\n",
    "model_nonlinear.datapoints_x=pyo.Param(model_nonlinear.m, initialize = X)\n",
    "\n",
    "\n",
    "\n",
    "# Objective Function\n",
    "model_linear.obj = pyo.Objective(expr=  \n",
    "                                 sum((model_linear.datapoints_y[m]-(model_linear.a1+ \n",
    "                                 model_linear.a2*model_linear.datapoints_x[m]))**2 \n",
    "                                 for m in model_linear.m), sense = pyo.minimize)\n",
    "\n",
    "\n",
    "model_nonlinear.obj = pyo.Objective(expr=\n",
    "                                sum((model_nonlinear.datapoints_y[m]-\n",
    "                                (model_nonlinear.b1+\n",
    "                                model_nonlinear.b2*pyo.exp(model_nonlinear.b3*model_linear.datapoints_x[m])))**2 \n",
    "                                for m in model_nonlinear.m), sense=pyo.minimize)\n",
    "\n",
    "# SOLVER\n",
    "results= pyo.SolverFactory (\"ipopt\").solve(model_linear)\n",
    "\n",
    "\n",
    "results.write()\n",
    "print(\" \\n Results \\n\")\n",
    "\n",
    "print(\"OBJ=\", model_linear.obj())\n",
    "print(\"a1=\",  model_linear.a1())\n",
    "print(\"a2=\",  model_linear.a2())\n",
    "\n",
    "\n",
    "results= pyo.SolverFactory (\"ipopt\").solve(model_nonlinear)\n",
    "results.write()\n",
    "\n",
    "print(\"OBJ=\", model_nonlinear.obj())\n",
    "print(\"b1=\",  model_nonlinear.b1())\n",
    "print(\"b2=\",  model_nonlinear.b2())\n",
    "print(\"b3=\",  model_nonlinear.b3())\n"
   ]
  },
  {
   "cell_type": "code",
   "execution_count": 56,
   "id": "74fc1c9b",
   "metadata": {},
   "outputs": [
    {
     "name": "stdout",
     "output_type": "stream",
     "text": [
      "OBJ= 14085.139848928411\n",
      "b1= 516.6511741716694\n",
      "b2= -149.35189369628853\n",
      "b3= -0.20664276797259945\n"
     ]
    }
   ],
   "source": [
    "results= pyo.SolverFactory('mindtpy').solve(model_nonlinear, mip_solver='glpk', nlp_solver='ipopt') \n",
    "\n",
    "#results.write()\n",
    "\n",
    "print(\"OBJ=\", model_nonlinear.obj())\n",
    "print(\"b1=\",  model_nonlinear.b1())\n",
    "print(\"b2=\",  model_nonlinear.b2())\n",
    "print(\"b3=\",  model_nonlinear.b3())"
   ]
  },
  {
   "cell_type": "code",
   "execution_count": 49,
   "id": "6120df58",
   "metadata": {},
   "outputs": [],
   "source": [
    "import numpy as np\n",
    "xq=np.linspace(-5, 5, 20)\n",
    "y_linear=model_linear.a1()+model_linear.a2()*np.array(xq)\n",
    "y_nonlinear=model_nonlinear.b1()+model_nonlinear.b2()*np.exp(model_nonlinear.b3()*np.array(xq))"
   ]
  },
  {
   "cell_type": "code",
   "execution_count": 50,
   "id": "35afb83b",
   "metadata": {},
   "outputs": [
    {
     "data": {
      "text/plain": [
       "[<matplotlib.lines.Line2D at 0x7fd535fb5100>]"
      ]
     },
     "execution_count": 50,
     "metadata": {},
     "output_type": "execute_result"
    },
    {
     "data": {
      "image/png": "[encoded data removed]",
      "text/plain": [
       "<Figure size 432x288 with 1 Axes>"
      ]
     },
     "metadata": {
      "needs_background": "light"
     },
     "output_type": "display_data"
    }
   ],
   "source": [
    "plt.plot(xq, y_linear)\n",
    "plt.scatter(x,y)\n",
    "plt.plot(xq, y_nonlinear)"
   ]
  },
  {
   "cell_type": "code",
   "execution_count": null,
   "id": "f2c16ec0",
   "metadata": {},
   "outputs": [],
   "source": [
    "\n"
   ]
  },
  {
   "cell_type": "code",
   "execution_count": null,
   "id": "d480d35b",
   "metadata": {},
   "outputs": [],
   "source": []
  }
 ],
 "metadata": {
  "kernelspec": {
   "display_name": "Python 3 (ipykernel)",
   "language": "python",
   "name": "python3"
  },
  "language_info": {
   "codemirror_mode": {
    "name": "ipython",
    "version": 3
   },
   "file_extension": ".py",
   "mimetype": "text/x-python",
   "name": "python",
   "nbconvert_exporter": "python",
   "pygments_lexer": "ipython3",
   "version": "3.8.12"
  }
 },
 "nbformat": 4,
 "nbformat_minor": 5
}
